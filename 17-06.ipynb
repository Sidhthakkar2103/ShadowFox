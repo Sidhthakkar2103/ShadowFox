{
 "cells": [
  {
   "cell_type": "markdown",
   "id": "a1a73b5d-9afa-41dc-9ac1-80b3fecf2a6c",
   "metadata": {},
   "source": [
    "#1. Variables"
   ]
  },
  {
   "cell_type": "markdown",
   "id": "ad882ce7-f021-4dcf-9cdf-329687c64b43",
   "metadata": {},
   "source": [
    "#1. Create a variable named pi and store the value 22/7 in it.\n",
    "Now check the data type of this variable."
   ]
  },
  {
   "cell_type": "code",
   "execution_count": 4,
   "id": "a4aac3cf-e520-449e-9b34-32a5af6f4427",
   "metadata": {},
   "outputs": [
    {
     "data": {
      "text/plain": [
       "float"
      ]
     },
     "execution_count": 4,
     "metadata": {},
     "output_type": "execute_result"
    }
   ],
   "source": [
    "pi=22/7\n",
    "type(pi)\n"
   ]
  },
  {
   "cell_type": "markdown",
   "id": "4760e123-ae47-4502-827f-94d99c880e33",
   "metadata": {},
   "source": [
    "#2. Create a variable called for and assign it a value 4. See what\n",
    "happens and find out the reason behind the behavior that you\n",
    "see."
   ]
  },
  {
   "cell_type": "code",
   "execution_count": 5,
   "id": "02a2c37a-09b8-4cd3-aada-c90dee555a94",
   "metadata": {},
   "outputs": [
    {
     "ename": "SyntaxError",
     "evalue": "invalid syntax (2189276053.py, line 1)",
     "output_type": "error",
     "traceback": [
      "\u001b[1;36m  Cell \u001b[1;32mIn[5], line 1\u001b[1;36m\u001b[0m\n\u001b[1;33m    for=4\u001b[0m\n\u001b[1;37m       ^\u001b[0m\n\u001b[1;31mSyntaxError\u001b[0m\u001b[1;31m:\u001b[0m invalid syntax\n"
     ]
    }
   ],
   "source": [
    "for=4\n",
    "print(for)"
   ]
  },
  {
   "cell_type": "markdown",
   "id": "7aedfc7c-2db5-4904-afb7-854a953755c4",
   "metadata": {},
   "source": [
    "#REASON FOR ERROR \n",
    "#its give an error because there is 32 reserved keywords in python for is one of them so \n",
    "we can not used as a variable name \n",
    "we also can not used any keyword as a varible name"
   ]
  },
  {
   "cell_type": "markdown",
   "id": "4bedaa5e-387a-4daf-a137-92f08932a8ff",
   "metadata": {},
   "source": [
    "3. Store the principal amount, rate of interest, and time in\n",
    "different variables and then calculate the Simple Interest for 3\n",
    "years. Formula: Simple Interest = P x R x T / 100"
   ]
  },
  {
   "cell_type": "code",
   "execution_count": 7,
   "id": "931a1c07-9e91-4eef-b6b4-be14166e8fad",
   "metadata": {},
   "outputs": [
    {
     "name": "stdout",
     "output_type": "stream",
     "text": [
      "5000.0\n"
     ]
    }
   ],
   "source": [
    "p=10000 #principle amount\n",
    "r=10  #10 % per anm rate of interest\n",
    "t=5 #5 years\n",
    "simple_interest=p*r*t/100\n",
    "print(simple_interest)"
   ]
  },
  {
   "cell_type": "markdown",
   "id": "f7b49a4a-7c70-4273-9a93-2c01e418800c",
   "metadata": {},
   "source": [
    "----------------------------------------------------------------------------------"
   ]
  },
  {
   "cell_type": "markdown",
   "id": "ab42249a-8509-4018-9fff-389bb15a8c23",
   "metadata": {},
   "source": [
    "2. Numbers"
   ]
  },
  {
   "cell_type": "markdown",
   "id": "0300b169-1666-4de8-8036-c410951abef1",
   "metadata": {},
   "source": [
    "1. Write a function that takes two arguments, 145 and 'o'\n",
    ", and\n",
    "uses the `format` function to return a formatted string. Print the\n",
    "result. Try to identify the representation used."
   ]
  },
  {
   "cell_type": "code",
   "execution_count": 9,
   "id": "e01f6f47-9fc0-4b7e-ac0f-d42842344ac9",
   "metadata": {},
   "outputs": [
    {
     "name": "stdout",
     "output_type": "stream",
     "text": [
      "221\n"
     ]
    }
   ],
   "source": [
    "def format_to_octal(num, format_spec):\n",
    " \n",
    "  return format(num, format_spec)\n",
    "\n",
    "result = format_to_octal(145, 'o')\n",
    "print(result)\n"
   ]
  },
  {
   "cell_type": "markdown",
   "id": "43361e5e-9aec-4b67-8f43-a45f742b69cb",
   "metadata": {},
   "source": [
    "2. In a village, there is a circular pond with a radius of 84 meters.\n",
    "Calculate the area of the pond using the formula: Circle Area = π\n",
    "r^2. (Use the value 3.14 for π) Bonus Question: If there is exactly\n",
    "1.4 liters of water in a square meter, what is the total amount of\n",
    "water in the pond? Print the answer without any decimal point in\n",
    "it. Hint: Circle Area = π r^2 Water in the pond = Pond Area\n",
    "Water per Square Meter"
   ]
  },
  {
   "cell_type": "code",
   "execution_count": 11,
   "id": "8f2d1422-333a-4c50-b7fc-df09bf7aaeeb",
   "metadata": {},
   "outputs": [
    {
     "name": "stdout",
     "output_type": "stream",
     "text": [
      "Pond Area: 22155.84 square meters\n",
      "Total Water in Pond: 31018 liters\n"
     ]
    }
   ],
   "source": [
    "# Define pi value\n",
    "pi = 3.14\n",
    "\n",
    "# Pond radius\n",
    "radius = 84\n",
    "\n",
    "# Calculate pond area\n",
    "pond_area = pi * radius**2\n",
    "\n",
    "# Water per square meter (liters)\n",
    "water_per_meter = 1.4\n",
    "\n",
    "# Calculate total water volume (round down to nearest whole number)\n",
    "total_water = int(pond_area * water_per_meter)\n",
    "\n",
    "# Print results\n",
    "print(\"Pond Area:\", pond_area, \"square meters\")\n",
    "print(\"Total Water in Pond:\", total_water, \"liters\")\n"
   ]
  },
  {
   "cell_type": "markdown",
   "id": "4016840f-05d9-46b2-aa95-2ca67c054d8f",
   "metadata": {},
   "source": [
    "3. If you cross a 490meterlong street in 7 minutes, calculate your\n",
    "speed in meters per second. Print the answer without any decimal\n",
    "point in it. Hint: Speed = Distance / Time"
   ]
  },
  {
   "cell_type": "code",
   "execution_count": 12,
   "id": "931039e2-978e-479b-846d-5ba99c3b94a0",
   "metadata": {},
   "outputs": [
    {
     "name": "stdout",
     "output_type": "stream",
     "text": [
      "Speed: 1 meters per second\n"
     ]
    }
   ],
   "source": [
    "# Distance (meters)\n",
    "distance = 490\n",
    "\n",
    "# Time (minutes) converted to seconds\n",
    "time = 7 * 60  # 7 minutes * 60 seconds/minute\n",
    "\n",
    "# Speed (meters per second) - round down to nearest whole number\n",
    "speed = int(distance / time)\n",
    "\n",
    "# Print result\n",
    "print(\"Speed:\", speed, \"meters per second\")\n"
   ]
  },
  {
   "cell_type": "markdown",
   "id": "82cca2e1-ebf4-4d18-a224-aa275123710f",
   "metadata": {},
   "source": [
    "3. List"
   ]
  },
  {
   "cell_type": "markdown",
   "id": "e2979802-b7e4-482d-9a25-398dc52d1c63",
   "metadata": {},
   "source": [
    "1. You have a list of superheroes representing the Justice\n",
    "League. justice_league = [\"Superman\"\n",
    ",\n",
    "\"Batman\"\n",
    ",\n",
    "\"Wonder\n",
    "\n",
    "Woman\"\n",
    ",\n",
    "\"Flash\"\n",
    ",\n",
    "\"Aquaman\"\n",
    ",\n",
    "\"Green Lantern\"]"
   ]
  },
  {
   "cell_type": "markdown",
   "id": "f5348fbf-c199-4cfa-bb1a-124db1a34cb8",
   "metadata": {},
   "source": [
    "Perform the following tasks:\n",
    "1. Calculate the number of members in the Justice League.\n",
    "2. Batman recruited Batgirl and Nightwing as new members.\n",
    "Add them to your list.\n",
    "3. Wonder Woman is now the leader of the Justice League.\n",
    "Move her to the beginning of the list.\n",
    "4. Aquaman and Flash are having conflicts, and you need to\n",
    "separate them. Choose either \"Green Lantern\" or \"Superman\"\n",
    "and move them in between Aquaman and Flash.\n",
    "5. The Justice League faced a crisis, and Superman decided to\n",
    "assemble a new team. Replace the existing list with the following\n",
    "new members: \"Cyborg\"\n",
    ",\n",
    "\"Shazam\"\n",
    ",\n",
    "\"Hawkgirl\"\n",
    ",\n",
    "\"Martian\n",
    "\n",
    "Manhunter\"\n",
    ",\n",
    "\"Green Arrow\".\n",
    "\n",
    "6. Sort the Justice League alphabetically. The hero at the 0th\n",
    "index will become the new leader."
   ]
  },
  {
   "cell_type": "code",
   "execution_count": 14,
   "id": "2d0fc3f0-dae0-4812-ad71-4ab00dfa7952",
   "metadata": {},
   "outputs": [
    {
     "name": "stdout",
     "output_type": "stream",
     "text": [
      "Original Members: 6\n",
      "['Superman', 'Batman', 'Wonder Woman', 'Flash', 'Aquaman', 'Green Lantern']\n",
      "After adding Batgirl and Nightwing: ['Superman', 'Batman', 'Wonder Woman', 'Flash', 'Aquaman', 'Green Lantern', 'Batgirl', 'Nightwing']\n",
      "Wonder Woman as leader: ['Wonder Woman', 'Superman', 'Batman', 'Flash', 'Aquaman', 'Green Lantern', 'Batgirl', 'Nightwing']\n",
      "Separating Aquaman and Flash: ['Wonder Woman', 'Superman', 'Batman', 'Flash', 'Green Lantern', 'Aquaman', 'Batgirl', 'Nightwing']\n",
      "New Justice League team: ['Cyborg', 'Shazam', 'Hawkgirl', 'Martian Manhunter', 'Green Arrow']\n",
      "Sorted Justice League (New Leader: Cyborg )\n"
     ]
    }
   ],
   "source": [
    "justice_league = [\"Superman\", \"Batman\", \"Wonder Woman\", \"Flash\", \"Aquaman\", \"Green Lantern\"]\n",
    "\n",
    "# 1. Number of members\n",
    "print(\"Original Members:\", len(justice_league))\n",
    "print(justice_league)\n",
    "\n",
    "# 2. Add Batgirl and Nightwing\n",
    "justice_league.append(\"Batgirl\")\n",
    "justice_league.append(\"Nightwing\")\n",
    "print(\"After adding Batgirl and Nightwing:\", justice_league)\n",
    "\n",
    "# 3. Wonder Woman as leader (move to the beginning)\n",
    "wonder_woman_index = justice_league.index(\"Wonder Woman\")\n",
    "justice_league.insert(0, justice_league.pop(wonder_woman_index))\n",
    "print(\"Wonder Woman as leader:\", justice_league)\n",
    "\n",
    "# 4. Separate Aquaman and Flash (using Green Lantern)\n",
    "aquaman_index = justice_league.index(\"Aquaman\")\n",
    "flash_index = justice_league.index(\"Flash\")\n",
    "green_lantern_index = justice_league.index(\"Green Lantern\")\n",
    "\n",
    "justice_league.insert(flash_index + 1, justice_league.pop(green_lantern_index))\n",
    "print(\"Separating Aquaman and Flash:\", justice_league)\n",
    "\n",
    "# 5. New Justice League team\n",
    "justice_league = [\"Cyborg\", \"Shazam\", \"Hawkgirl\", \"Martian Manhunter\", \"Green Arrow\"]\n",
    "print(\"New Justice League team:\", justice_league)\n",
    "\n",
    "# 6. Sort alphabetically (new leader at index 0)\n",
    "justice_league.sort()\n",
    "print(\"Sorted Justice League (New Leader:\", justice_league[0], \")\")\n"
   ]
  },
  {
   "cell_type": "markdown",
   "id": "61b4f4d0-84f9-4a2e-b785-7c07c75cb365",
   "metadata": {},
   "source": [
    "#4. If Condition"
   ]
  },
  {
   "cell_type": "markdown",
   "id": "160fcec0-9d57-497c-8bb7-ee98fe501dc3",
   "metadata": {},
   "source": [
    "#1. Write a program to determine the BMI Category based on user input.\n",
    "Ask the user to:\n",
    "Enter height in meters\n",
    "Enter weight in kilograms\n",
    "Calculate BMI using the formula: BMI = weight / (height)2"
   ]
  },
  {
   "cell_type": "code",
   "execution_count": 18,
   "id": "811da6b8-d2fa-41fa-a9f6-0f58fa796ee9",
   "metadata": {},
   "outputs": [
    {
     "name": "stdin",
     "output_type": "stream",
     "text": [
      "Enter height in meters:  1.75\n",
      "Enter weight in kilograms:  70\n"
     ]
    },
    {
     "name": "stdout",
     "output_type": "stream",
     "text": [
      "Normal\n"
     ]
    }
   ],
   "source": [
    "# Get user input for height and weight\n",
    "height = float(input(\"Enter height in meters: \"))\n",
    "weight = float(input(\"Enter weight in kilograms: \"))\n",
    "\n",
    "# Calculate BMI\n",
    "bmi = weight / (height * height)\n",
    "\n",
    "# Determine BMI Category\n",
    "if bmi >= 30:\n",
    "    bmi_category = \"Obesity\"\n",
    "elif bmi >= 25:\n",
    "    bmi_category = \"Overweight\"\n",
    "elif bmi >= 18.5:\n",
    "    bmi_category = \"Normal\"\n",
    "else:\n",
    "    bmi_category = \"Underweight\"\n",
    "\n",
    "# Print result\n",
    "print(bmi_category)\n"
   ]
  },
  {
   "cell_type": "markdown",
   "id": "d49dd380-0401-4922-8970-639903c88021",
   "metadata": {},
   "source": [
    "#4. Inheritence"
   ]
  },
  {
   "cell_type": "markdown",
   "id": "c37b3650-2d5c-4c9e-bf0e-30c8308507c6",
   "metadata": {},
   "source": [
    "1. Create inheritance using MobilePhone as base class and Apple &\n",
    "Samsung as child class\n",
    "1. The base class should have properties:\n",
    "1. ScreenType = Touch Screen\n",
    "2. NetworkType = 4G/5G\n",
    "3. DualSim = True or False\n",
    "4. FrontCamera = (5MP/8MP/12MP/16MP)\n",
    "5. rearCamera = (8MP/12MP/16MP/32MP/48MP)\n",
    "6. RAM = (2GB/3GB/4GB)\n",
    "7. Storage = (16GB/32GB/64GB)\n",
    "\n",
    " \n",
    "   2. Create basic mobile phone functionalities in the classes like:\n",
    "make_call, recieve_call, take_a_picture, etc.\n",
    "\n",
    "3. Use super() constructor for calling parent class’s constructor\n",
    "   \n",
    "4. Make some objects of Apple class with different properties\n",
    "   \n",
    "5. Make some objects of Samsung class with different properties"
   ]
  },
  {
   "cell_type": "code",
   "execution_count": 20,
   "id": "2fc28c26-d920-4775-a294-c9b8268a3abd",
   "metadata": {},
   "outputs": [
    {
     "name": "stdout",
     "output_type": "stream",
     "text": [
      "Calling number: 123-456-7890\n",
      "Taking a picture with 48MP + 12MP + 12MP camera\n",
      "Receiving call...\n",
      "Screen Type: Touch Screen\n",
      "Network Type: 4G/5G\n",
      "Dual SIM: False\n",
      "Front Camera: 10MP\n",
      "Rear Camera: 50MP + 12MP + 12MP\n",
      "RAM: 12GB\n",
      "Storage: 512GB\n"
     ]
    }
   ],
   "source": [
    "class MobilePhone:\n",
    "  def __init__(self, screen_type=\"Touch Screen\", network_type=\"4G/5G\", dual_sim=True, \n",
    "               front_camera=\"N/A\", rear_camera=\"N/A\", ram=\"N/A\", storage=\"N/A\"):\n",
    "    self.screen_type = screen_type\n",
    "    self.network_type = network_type\n",
    "    self.dual_sim = dual_sim\n",
    "    self.front_camera = front_camera\n",
    "    self.rear_camera = rear_camera\n",
    "    self.ram = ram\n",
    "    self.storage = storage\n",
    "\n",
    "  def make_call(self, number):\n",
    "    print(f\"Calling number: {number}\")\n",
    "\n",
    "  def receive_call(self):\n",
    "    print(\"Receiving call...\")\n",
    "\n",
    "  def take_a_picture(self):\n",
    "    print(f\"Taking a picture with {self.rear_camera} camera\")\n",
    "\n",
    "  def get_specs(self):\n",
    "    print(f\"Screen Type: {self.screen_type}\")\n",
    "    print(f\"Network Type: {self.network_type}\")\n",
    "    print(f\"Dual SIM: {self.dual_sim}\")\n",
    "    print(f\"Front Camera: {self.front_camera}\")\n",
    "    print(f\"Rear Camera: {self.rear_camera}\")\n",
    "    print(f\"RAM: {self.ram}\")\n",
    "    print(f\"Storage: {self.storage}\")\n",
    "\n",
    "class Apple(MobilePhone):\n",
    "  def __init__(self, model, front_camera, rear_camera, ram, storage):\n",
    "    super().__init__(screen_type=\"Retina\", network_type=\"5G\")\n",
    "    self.model = model\n",
    "    self.front_camera = front_camera\n",
    "    self.rear_camera = rear_camera\n",
    "    self.ram = ram\n",
    "    self.storage = storage\n",
    "\n",
    "class Samsung(MobilePhone):\n",
    "  def __init__(self, model, front_camera, rear_camera, ram, storage):\n",
    "    super().__init__(dual_sim=False)  # Samsung can have single SIM models\n",
    "    self.model = model\n",
    "    self.front_camera = front_camera\n",
    "    self.rear_camera = rear_camera\n",
    "    self.ram = ram\n",
    "    self.storage = storage\n",
    "\n",
    "# Example usage\n",
    "iphone_13 = Apple(\"iPhone 13\", \"12MP\", \"12MP + 12MP\", \"4GB\", \"128GB\")\n",
    "iphone_14_pro = Apple(\"iPhone 14 Pro\", \"12MP\", \"48MP + 12MP + 12MP\", \"8GB\", \"256GB\")\n",
    "\n",
    "galaxy_s22 = Samsung(\"Galaxy S22\", \"10MP\", \"50MP + 12MP + 10MP\", \"8GB\", \"256GB\")\n",
    "galaxy_z_fold4 = Samsung(\"Galaxy Z Fold4\", \"10MP\", \"50MP + 12MP + 12MP\", \"12GB\", \"512GB\")\n",
    "\n",
    "# Use functionalities\n",
    "iphone_13.make_call(\"123-456-7890\")\n",
    "iphone_14_pro.take_a_picture()\n",
    "galaxy_s22.receive_call()\n",
    "galaxy_z_fold4.get_specs()\n"
   ]
  },
  {
   "cell_type": "code",
   "execution_count": null,
   "id": "8d68859a-fb7b-478b-ab24-473d4145bc48",
   "metadata": {},
   "outputs": [],
   "source": []
  }
 ],
 "metadata": {
  "kernelspec": {
   "display_name": "Python 3 (ipykernel)",
   "language": "python",
   "name": "python3"
  },
  "language_info": {
   "codemirror_mode": {
    "name": "ipython",
    "version": 3
   },
   "file_extension": ".py",
   "mimetype": "text/x-python",
   "name": "python",
   "nbconvert_exporter": "python",
   "pygments_lexer": "ipython3",
   "version": "3.12.3"
  }
 },
 "nbformat": 4,
 "nbformat_minor": 5
}
